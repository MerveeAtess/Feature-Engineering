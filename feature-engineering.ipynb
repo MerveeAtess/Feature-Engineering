{
 "cells": [
  {
   "cell_type": "code",
   "execution_count": 1,
   "id": "36b7292b",
   "metadata": {
    "_cell_guid": "b1076dfc-b9ad-4769-8c92-a6c4dae69d19",
    "_uuid": "8f2839f25d086af736a60e9eeb907d3b93b6e0e5",
    "execution": {
     "iopub.execute_input": "2024-06-26T11:43:38.071390Z",
     "iopub.status.busy": "2024-06-26T11:43:38.070819Z",
     "iopub.status.idle": "2024-06-26T11:43:39.141721Z",
     "shell.execute_reply": "2024-06-26T11:43:39.140136Z"
    },
    "papermill": {
     "duration": 1.091211,
     "end_time": "2024-06-26T11:43:39.144562",
     "exception": false,
     "start_time": "2024-06-26T11:43:38.053351",
     "status": "completed"
    },
    "tags": []
   },
   "outputs": [
    {
     "name": "stdout",
     "output_type": "stream",
     "text": [
      "/kaggle/input/diabetes-dataset/diabetes.csv\n"
     ]
    }
   ],
   "source": [
    "# This Python 3 environment comes with many helpful analytics libraries installed\n",
    "# It is defined by the kaggle/python Docker image: https://github.com/kaggle/docker-python\n",
    "# For example, here's several helpful packages to load\n",
    "\n",
    "import numpy as np # linear algebra\n",
    "import pandas as pd # data processing, CSV file I/O (e.g. pd.read_csv)\n",
    "\n",
    "# Input data files are available in the read-only \"../input/\" directory\n",
    "# For example, running this (by clicking run or pressing Shift+Enter) will list all files under the input directory\n",
    "\n",
    "import os\n",
    "for dirname, _, filenames in os.walk('/kaggle/input'):\n",
    "    for filename in filenames:\n",
    "        print(os.path.join(dirname, filename))\n",
    "\n",
    "# You can write up to 20GB to the current directory (/kaggle/working/) that gets preserved as output when you create a version using \"Save & Run All\" \n",
    "# You can also write temporary files to /kaggle/temp/, but they won't be saved outside of the current session"
   ]
  },
  {
   "cell_type": "markdown",
   "id": "ce70806d",
   "metadata": {
    "papermill": {
     "duration": 0.012985,
     "end_time": "2024-06-26T11:43:39.170791",
     "exception": false,
     "start_time": "2024-06-26T11:43:39.157806",
     "status": "completed"
    },
    "tags": []
   },
   "source": [
    "# Import Libraries"
   ]
  },
  {
   "cell_type": "code",
   "execution_count": 2,
   "id": "2d4bc977",
   "metadata": {
    "execution": {
     "iopub.execute_input": "2024-06-26T11:43:39.198768Z",
     "iopub.status.busy": "2024-06-26T11:43:39.198215Z",
     "iopub.status.idle": "2024-06-26T11:43:41.511111Z",
     "shell.execute_reply": "2024-06-26T11:43:41.509454Z"
    },
    "papermill": {
     "duration": 2.330516,
     "end_time": "2024-06-26T11:43:41.514434",
     "exception": false,
     "start_time": "2024-06-26T11:43:39.183918",
     "status": "completed"
    },
    "tags": []
   },
   "outputs": [],
   "source": [
    "import numpy as np\n",
    "import pandas as pd\n",
    "import seaborn as sns\n",
    "from matplotlib import pyplot as plt\n",
    "# !pip install missingno\n",
    "import missingno as msno\n",
    "from datetime import date\n",
    "from sklearn.metrics import accuracy_score\n",
    "from sklearn.model_selection import train_test_split\n",
    "from sklearn.neighbors import LocalOutlierFactor\n",
    "from sklearn.preprocessing import MinMaxScaler, LabelEncoder, StandardScaler, RobustScaler\n",
    "from sklearn.tree import DecisionTreeClassifier\n",
    "from sklearn.metrics import accuracy_score, classification_report, confusion_matrix\n",
    "\n",
    "from sklearn.metrics import accuracy_score, precision_score, recall_score, f1_score, roc_auc_score\n",
    "\n",
    "pd.set_option('display.max_columns', 500)\n",
    "pd.set_option('display.max_rows', None)\n",
    "pd.set_option('display.float_format', lambda x: '%.3f' % x)\n",
    "pd.set_option('display.width', 500)"
   ]
  },
  {
   "cell_type": "markdown",
   "id": "ae01e16e",
   "metadata": {
    "papermill": {
     "duration": 0.01402,
     "end_time": "2024-06-26T11:43:41.541701",
     "exception": false,
     "start_time": "2024-06-26T11:43:41.527681",
     "status": "completed"
    },
    "tags": []
   },
   "source": [
    "# Load Dataset"
   ]
  },
  {
   "cell_type": "code",
   "execution_count": 3,
   "id": "f137aa22",
   "metadata": {
    "execution": {
     "iopub.execute_input": "2024-06-26T11:43:41.571447Z",
     "iopub.status.busy": "2024-06-26T11:43:41.570982Z",
     "iopub.status.idle": "2024-06-26T11:43:41.626785Z",
     "shell.execute_reply": "2024-06-26T11:43:41.625116Z"
    },
    "papermill": {
     "duration": 0.074499,
     "end_time": "2024-06-26T11:43:41.629789",
     "exception": false,
     "start_time": "2024-06-26T11:43:41.555290",
     "status": "completed"
    },
    "tags": []
   },
   "outputs": [
    {
     "data": {
      "text/html": [
       "<div>\n",
       "<style scoped>\n",
       "    .dataframe tbody tr th:only-of-type {\n",
       "        vertical-align: middle;\n",
       "    }\n",
       "\n",
       "    .dataframe tbody tr th {\n",
       "        vertical-align: top;\n",
       "    }\n",
       "\n",
       "    .dataframe thead th {\n",
       "        text-align: right;\n",
       "    }\n",
       "</style>\n",
       "<table border=\"1\" class=\"dataframe\">\n",
       "  <thead>\n",
       "    <tr style=\"text-align: right;\">\n",
       "      <th></th>\n",
       "      <th>Pregnancies</th>\n",
       "      <th>Glucose</th>\n",
       "      <th>BloodPressure</th>\n",
       "      <th>SkinThickness</th>\n",
       "      <th>Insulin</th>\n",
       "      <th>BMI</th>\n",
       "      <th>DiabetesPedigreeFunction</th>\n",
       "      <th>Age</th>\n",
       "      <th>Outcome</th>\n",
       "    </tr>\n",
       "  </thead>\n",
       "  <tbody>\n",
       "    <tr>\n",
       "      <th>0</th>\n",
       "      <td>6</td>\n",
       "      <td>148</td>\n",
       "      <td>72</td>\n",
       "      <td>35</td>\n",
       "      <td>0</td>\n",
       "      <td>33.600</td>\n",
       "      <td>0.627</td>\n",
       "      <td>50</td>\n",
       "      <td>1</td>\n",
       "    </tr>\n",
       "    <tr>\n",
       "      <th>1</th>\n",
       "      <td>1</td>\n",
       "      <td>85</td>\n",
       "      <td>66</td>\n",
       "      <td>29</td>\n",
       "      <td>0</td>\n",
       "      <td>26.600</td>\n",
       "      <td>0.351</td>\n",
       "      <td>31</td>\n",
       "      <td>0</td>\n",
       "    </tr>\n",
       "    <tr>\n",
       "      <th>2</th>\n",
       "      <td>8</td>\n",
       "      <td>183</td>\n",
       "      <td>64</td>\n",
       "      <td>0</td>\n",
       "      <td>0</td>\n",
       "      <td>23.300</td>\n",
       "      <td>0.672</td>\n",
       "      <td>32</td>\n",
       "      <td>1</td>\n",
       "    </tr>\n",
       "    <tr>\n",
       "      <th>3</th>\n",
       "      <td>1</td>\n",
       "      <td>89</td>\n",
       "      <td>66</td>\n",
       "      <td>23</td>\n",
       "      <td>94</td>\n",
       "      <td>28.100</td>\n",
       "      <td>0.167</td>\n",
       "      <td>21</td>\n",
       "      <td>0</td>\n",
       "    </tr>\n",
       "    <tr>\n",
       "      <th>4</th>\n",
       "      <td>0</td>\n",
       "      <td>137</td>\n",
       "      <td>40</td>\n",
       "      <td>35</td>\n",
       "      <td>168</td>\n",
       "      <td>43.100</td>\n",
       "      <td>2.288</td>\n",
       "      <td>33</td>\n",
       "      <td>1</td>\n",
       "    </tr>\n",
       "  </tbody>\n",
       "</table>\n",
       "</div>"
      ],
      "text/plain": [
       "   Pregnancies  Glucose  BloodPressure  SkinThickness  Insulin    BMI  DiabetesPedigreeFunction  Age  Outcome\n",
       "0            6      148             72             35        0 33.600                     0.627   50        1\n",
       "1            1       85             66             29        0 26.600                     0.351   31        0\n",
       "2            8      183             64              0        0 23.300                     0.672   32        1\n",
       "3            1       89             66             23       94 28.100                     0.167   21        0\n",
       "4            0      137             40             35      168 43.100                     2.288   33        1"
      ]
     },
     "execution_count": 3,
     "metadata": {},
     "output_type": "execute_result"
    }
   ],
   "source": [
    "df = pd.read_csv(\"/kaggle/input/diabetes-dataset/diabetes.csv\")\n",
    "df.head()"
   ]
  },
  {
   "cell_type": "code",
   "execution_count": 4,
   "id": "0dd92a6b",
   "metadata": {
    "execution": {
     "iopub.execute_input": "2024-06-26T11:43:41.660058Z",
     "iopub.status.busy": "2024-06-26T11:43:41.659456Z",
     "iopub.status.idle": "2024-06-26T11:43:41.675608Z",
     "shell.execute_reply": "2024-06-26T11:43:41.674536Z"
    },
    "papermill": {
     "duration": 0.034759,
     "end_time": "2024-06-26T11:43:41.678490",
     "exception": false,
     "start_time": "2024-06-26T11:43:41.643731",
     "status": "completed"
    },
    "tags": []
   },
   "outputs": [
    {
     "data": {
      "text/html": [
       "<div>\n",
       "<style scoped>\n",
       "    .dataframe tbody tr th:only-of-type {\n",
       "        vertical-align: middle;\n",
       "    }\n",
       "\n",
       "    .dataframe tbody tr th {\n",
       "        vertical-align: top;\n",
       "    }\n",
       "\n",
       "    .dataframe thead th {\n",
       "        text-align: right;\n",
       "    }\n",
       "</style>\n",
       "<table border=\"1\" class=\"dataframe\">\n",
       "  <thead>\n",
       "    <tr style=\"text-align: right;\">\n",
       "      <th></th>\n",
       "      <th>Pregnancies</th>\n",
       "      <th>Glucose</th>\n",
       "      <th>BloodPressure</th>\n",
       "      <th>SkinThickness</th>\n",
       "      <th>Insulin</th>\n",
       "      <th>BMI</th>\n",
       "      <th>DiabetesPedigreeFunction</th>\n",
       "      <th>Age</th>\n",
       "      <th>Outcome</th>\n",
       "    </tr>\n",
       "  </thead>\n",
       "  <tbody>\n",
       "    <tr>\n",
       "      <th>0</th>\n",
       "      <td>6</td>\n",
       "      <td>148</td>\n",
       "      <td>72</td>\n",
       "      <td>35</td>\n",
       "      <td>0</td>\n",
       "      <td>33.600</td>\n",
       "      <td>0.627</td>\n",
       "      <td>50</td>\n",
       "      <td>1</td>\n",
       "    </tr>\n",
       "    <tr>\n",
       "      <th>1</th>\n",
       "      <td>1</td>\n",
       "      <td>85</td>\n",
       "      <td>66</td>\n",
       "      <td>29</td>\n",
       "      <td>0</td>\n",
       "      <td>26.600</td>\n",
       "      <td>0.351</td>\n",
       "      <td>31</td>\n",
       "      <td>0</td>\n",
       "    </tr>\n",
       "    <tr>\n",
       "      <th>2</th>\n",
       "      <td>8</td>\n",
       "      <td>183</td>\n",
       "      <td>64</td>\n",
       "      <td>0</td>\n",
       "      <td>0</td>\n",
       "      <td>23.300</td>\n",
       "      <td>0.672</td>\n",
       "      <td>32</td>\n",
       "      <td>1</td>\n",
       "    </tr>\n",
       "    <tr>\n",
       "      <th>3</th>\n",
       "      <td>1</td>\n",
       "      <td>89</td>\n",
       "      <td>66</td>\n",
       "      <td>23</td>\n",
       "      <td>94</td>\n",
       "      <td>28.100</td>\n",
       "      <td>0.167</td>\n",
       "      <td>21</td>\n",
       "      <td>0</td>\n",
       "    </tr>\n",
       "    <tr>\n",
       "      <th>4</th>\n",
       "      <td>0</td>\n",
       "      <td>137</td>\n",
       "      <td>40</td>\n",
       "      <td>35</td>\n",
       "      <td>168</td>\n",
       "      <td>43.100</td>\n",
       "      <td>2.288</td>\n",
       "      <td>33</td>\n",
       "      <td>1</td>\n",
       "    </tr>\n",
       "  </tbody>\n",
       "</table>\n",
       "</div>"
      ],
      "text/plain": [
       "   Pregnancies  Glucose  BloodPressure  SkinThickness  Insulin    BMI  DiabetesPedigreeFunction  Age  Outcome\n",
       "0            6      148             72             35        0 33.600                     0.627   50        1\n",
       "1            1       85             66             29        0 26.600                     0.351   31        0\n",
       "2            8      183             64              0        0 23.300                     0.672   32        1\n",
       "3            1       89             66             23       94 28.100                     0.167   21        0\n",
       "4            0      137             40             35      168 43.100                     2.288   33        1"
      ]
     },
     "execution_count": 4,
     "metadata": {},
     "output_type": "execute_result"
    }
   ],
   "source": [
    "df.head()"
   ]
  },
  {
   "cell_type": "code",
   "execution_count": 5,
   "id": "e7663435",
   "metadata": {
    "execution": {
     "iopub.execute_input": "2024-06-26T11:43:41.710351Z",
     "iopub.status.busy": "2024-06-26T11:43:41.709185Z",
     "iopub.status.idle": "2024-06-26T11:43:41.718256Z",
     "shell.execute_reply": "2024-06-26T11:43:41.715984Z"
    },
    "papermill": {
     "duration": 0.029222,
     "end_time": "2024-06-26T11:43:41.721416",
     "exception": false,
     "start_time": "2024-06-26T11:43:41.692194",
     "status": "completed"
    },
    "tags": []
   },
   "outputs": [
    {
     "data": {
      "text/plain": [
       "(768, 9)"
      ]
     },
     "execution_count": 5,
     "metadata": {},
     "output_type": "execute_result"
    }
   ],
   "source": [
    "df.shape"
   ]
  },
  {
   "cell_type": "code",
   "execution_count": 6,
   "id": "ba69ce68",
   "metadata": {
    "execution": {
     "iopub.execute_input": "2024-06-26T11:43:41.752297Z",
     "iopub.status.busy": "2024-06-26T11:43:41.751864Z",
     "iopub.status.idle": "2024-06-26T11:43:41.780985Z",
     "shell.execute_reply": "2024-06-26T11:43:41.779539Z"
    },
    "papermill": {
     "duration": 0.048091,
     "end_time": "2024-06-26T11:43:41.784114",
     "exception": false,
     "start_time": "2024-06-26T11:43:41.736023",
     "status": "completed"
    },
    "tags": []
   },
   "outputs": [
    {
     "name": "stdout",
     "output_type": "stream",
     "text": [
      "<class 'pandas.core.frame.DataFrame'>\n",
      "RangeIndex: 768 entries, 0 to 767\n",
      "Data columns (total 9 columns):\n",
      " #   Column                    Non-Null Count  Dtype  \n",
      "---  ------                    --------------  -----  \n",
      " 0   Pregnancies               768 non-null    int64  \n",
      " 1   Glucose                   768 non-null    int64  \n",
      " 2   BloodPressure             768 non-null    int64  \n",
      " 3   SkinThickness             768 non-null    int64  \n",
      " 4   Insulin                   768 non-null    int64  \n",
      " 5   BMI                       768 non-null    float64\n",
      " 6   DiabetesPedigreeFunction  768 non-null    float64\n",
      " 7   Age                       768 non-null    int64  \n",
      " 8   Outcome                   768 non-null    int64  \n",
      "dtypes: float64(2), int64(7)\n",
      "memory usage: 54.1 KB\n"
     ]
    }
   ],
   "source": [
    "df.info()"
   ]
  },
  {
   "cell_type": "code",
   "execution_count": 7,
   "id": "ee7af0c2",
   "metadata": {
    "execution": {
     "iopub.execute_input": "2024-06-26T11:43:41.813900Z",
     "iopub.status.busy": "2024-06-26T11:43:41.813449Z",
     "iopub.status.idle": "2024-06-26T11:43:41.823428Z",
     "shell.execute_reply": "2024-06-26T11:43:41.822259Z"
    },
    "papermill": {
     "duration": 0.028049,
     "end_time": "2024-06-26T11:43:41.826021",
     "exception": false,
     "start_time": "2024-06-26T11:43:41.797972",
     "status": "completed"
    },
    "tags": []
   },
   "outputs": [
    {
     "data": {
      "text/plain": [
       "Pregnancies                 0\n",
       "Glucose                     0\n",
       "BloodPressure               0\n",
       "SkinThickness               0\n",
       "Insulin                     0\n",
       "BMI                         0\n",
       "DiabetesPedigreeFunction    0\n",
       "Age                         0\n",
       "Outcome                     0\n",
       "dtype: int64"
      ]
     },
     "execution_count": 7,
     "metadata": {},
     "output_type": "execute_result"
    }
   ],
   "source": [
    "df.isnull().sum()"
   ]
  },
  {
   "cell_type": "code",
   "execution_count": 8,
   "id": "ff2d1746",
   "metadata": {
    "execution": {
     "iopub.execute_input": "2024-06-26T11:43:41.855904Z",
     "iopub.status.busy": "2024-06-26T11:43:41.855534Z",
     "iopub.status.idle": "2024-06-26T11:43:41.863921Z",
     "shell.execute_reply": "2024-06-26T11:43:41.862822Z"
    },
    "papermill": {
     "duration": 0.026573,
     "end_time": "2024-06-26T11:43:41.866574",
     "exception": false,
     "start_time": "2024-06-26T11:43:41.840001",
     "status": "completed"
    },
    "tags": []
   },
   "outputs": [
    {
     "data": {
      "text/plain": [
       "Index(['PREGNANCIES', 'GLUCOSE', 'BLOODPRESSURE', 'SKINTHICKNESS', 'INSULIN', 'BMI', 'DIABETESPEDIGREEFUNCTION', 'AGE', 'OUTCOME'], dtype='object')"
      ]
     },
     "execution_count": 8,
     "metadata": {},
     "output_type": "execute_result"
    }
   ],
   "source": [
    "# make all columns uppercase\n",
    "df.columns= [col.upper() for col in df.columns]\n",
    "df.columns"
   ]
  },
  {
   "cell_type": "code",
   "execution_count": 9,
   "id": "a1cd940a",
   "metadata": {
    "execution": {
     "iopub.execute_input": "2024-06-26T11:43:41.897670Z",
     "iopub.status.busy": "2024-06-26T11:43:41.897213Z",
     "iopub.status.idle": "2024-06-26T11:43:41.918573Z",
     "shell.execute_reply": "2024-06-26T11:43:41.917507Z"
    },
    "papermill": {
     "duration": 0.040149,
     "end_time": "2024-06-26T11:43:41.921396",
     "exception": false,
     "start_time": "2024-06-26T11:43:41.881247",
     "status": "completed"
    },
    "tags": []
   },
   "outputs": [
    {
     "name": "stdout",
     "output_type": "stream",
     "text": [
      "Observations: 768\n",
      "Variables: 9\n",
      "cat_cols: 1\n",
      "num_cols: 8\n",
      "cat_but_car: 0\n",
      "num_but_cat: 1\n"
     ]
    }
   ],
   "source": [
    "def grab_col_names(dataframe, cat_th=10, car_th=20):\n",
    "    \n",
    "\n",
    "    \"\"\"\n",
    "\n",
    "    Veri setindeki kategorik, numerik ve kategorik fakat kardinal değişkenlerin isimlerini verir.\n",
    "    Not: Kategorik değişkenlerin içerisine numerik görünümlü kategorik değişkenler de dahildir.\n",
    "\n",
    "    Parameters\n",
    "    ------\n",
    "        dataframe: dataframe\n",
    "                Değişken isimleri alınmak istenilen dataframe\n",
    "        cat_th: int, optional\n",
    "                numerik fakat kategorik olan değişkenler için sınıf eşik değeri\n",
    "        car_th: int, optinal\n",
    "                kategorik fakat kardinal değişkenler için sınıf eşik değeri\n",
    "\n",
    "    Returns\n",
    "    ------\n",
    "        cat_cols: list\n",
    "                Kategorik değişken listesi\n",
    "        num_cols: list\n",
    "                Numerik değişken listesi\n",
    "        cat_but_car: list\n",
    "                Kategorik görünümlü kardinal değişken listesi\n",
    "\n",
    "    Examples\n",
    "    ------\n",
    "        import seaborn as sns\n",
    "        df = sns.load_dataset(\"iris\")\n",
    "        print(grab_col_names(df))\n",
    "\n",
    "\n",
    "    Notes\n",
    "    ------\n",
    "        cat_cols + num_cols + cat_but_car = toplam değişken sayısı\n",
    "        num_but_cat cat_cols'un içerisinde.\n",
    "        Return olan 3 liste toplamı toplam değişken sayısına eşittir: cat_cols + num_cols + cat_but_car = değişken sayısı\n",
    "\n",
    "    \"\"\"\n",
    "\n",
    "    # cat_cols, cat_but_car\n",
    "    cat_cols = [col for col in df.columns if str(df[col].dtypes) in [\"category\", \"object\", \"bool\"]]\n",
    "    num_but_cat = [col for col in df.columns if df[col].nunique() < 10 and df[col].dtypes in [\"int64\", \"float64\"]]\n",
    "    cat_but_car = [col for col in df.columns if\n",
    "                       df[col].nunique() > 20 and str(df[col].dtypes) in [\"category\", \"object\"]]\n",
    "\n",
    "    cat_cols = cat_cols + num_but_cat\n",
    "    cat_cols = [col for col in cat_cols if col not in cat_but_car]\n",
    "\n",
    "    num_cols = [col for col in df.columns if df[col].dtypes in [\"int64\", \"float64\"]]\n",
    "    num_cols = [col for col in num_cols if col not in cat_cols]\n",
    "\n",
    "    print(f\"Observations: {dataframe.shape[0]}\")\n",
    "    print(f\"Variables: {dataframe.shape[1]}\")\n",
    "    print(f'cat_cols: {len(cat_cols)}')\n",
    "    print(f'num_cols: {len(num_cols)}')\n",
    "    print(f'cat_but_car: {len(cat_but_car)}')\n",
    "    print(f'num_but_cat: {len(num_but_cat)}')\n",
    "\n",
    "    return cat_cols, num_cols, cat_but_car\n",
    "\n",
    "cat_cols, num_cols, cat_but_car = grab_col_names(df)\n",
    "\n",
    "#cat_cols=[ col for col in cat_cols if col != \"OUTCOME\"]"
   ]
  },
  {
   "cell_type": "code",
   "execution_count": 10,
   "id": "28edb5b9",
   "metadata": {
    "execution": {
     "iopub.execute_input": "2024-06-26T11:43:41.953036Z",
     "iopub.status.busy": "2024-06-26T11:43:41.952655Z",
     "iopub.status.idle": "2024-06-26T11:43:41.966739Z",
     "shell.execute_reply": "2024-06-26T11:43:41.965415Z"
    },
    "papermill": {
     "duration": 0.032697,
     "end_time": "2024-06-26T11:43:41.969446",
     "exception": false,
     "start_time": "2024-06-26T11:43:41.936749",
     "status": "completed"
    },
    "tags": []
   },
   "outputs": [
    {
     "name": "stdout",
     "output_type": "stream",
     "text": [
      "         OUTCOME  Ratio\n",
      "OUTCOME                \n",
      "0            500 65.104\n",
      "1            268 34.896\n",
      "##########\n"
     ]
    }
   ],
   "source": [
    "# categorical variable analysis\n",
    "def cat_summary(dataframe, col_name, plot=False):\n",
    "    print(pd.DataFrame({col_name: dataframe[col_name].value_counts(),\n",
    "                        \"Ratio\": 100 * dataframe[col_name].value_counts() / len(dataframe)}))\n",
    "    print(\"##########\")\n",
    "    if plot:\n",
    "        sns.countplot(x=dataframe[col_name], data=dataframe)\n",
    "        plt.show()\n",
    "cat_summary(df, \"OUTCOME\")"
   ]
  },
  {
   "cell_type": "code",
   "execution_count": 11,
   "id": "721d3d16",
   "metadata": {
    "execution": {
     "iopub.execute_input": "2024-06-26T11:43:42.001087Z",
     "iopub.status.busy": "2024-06-26T11:43:42.000614Z",
     "iopub.status.idle": "2024-06-26T11:43:42.024259Z",
     "shell.execute_reply": "2024-06-26T11:43:42.022418Z"
    },
    "papermill": {
     "duration": 0.043187,
     "end_time": "2024-06-26T11:43:42.027237",
     "exception": false,
     "start_time": "2024-06-26T11:43:41.984050",
     "status": "completed"
    },
    "tags": []
   },
   "outputs": [
    {
     "name": "stdout",
     "output_type": "stream",
     "text": [
      "OUTCOME\n",
      "0   3.298\n",
      "1   4.866\n",
      "Name: PREGNANCIES, dtype: float64\n",
      "##########\n",
      "OUTCOME\n",
      "0   109.980\n",
      "1   141.257\n",
      "Name: GLUCOSE, dtype: float64\n",
      "##########\n",
      "OUTCOME\n",
      "0   68.184\n",
      "1   70.825\n",
      "Name: BLOODPRESSURE, dtype: float64\n",
      "##########\n",
      "OUTCOME\n",
      "0   19.664\n",
      "1   22.164\n",
      "Name: SKINTHICKNESS, dtype: float64\n",
      "##########\n",
      "OUTCOME\n",
      "0    68.792\n",
      "1   100.336\n",
      "Name: INSULIN, dtype: float64\n",
      "##########\n",
      "OUTCOME\n",
      "0   30.304\n",
      "1   35.143\n",
      "Name: BMI, dtype: float64\n",
      "##########\n",
      "OUTCOME\n",
      "0   0.430\n",
      "1   0.550\n",
      "Name: DIABETESPEDIGREEFUNCTION, dtype: float64\n",
      "##########\n",
      "OUTCOME\n",
      "0   31.190\n",
      "1   37.067\n",
      "Name: AGE, dtype: float64\n",
      "##########\n"
     ]
    }
   ],
   "source": [
    "# the analysis of numeric columns with target.\n",
    "def target_analiz_num(dataframe, num_cols, target):\n",
    "    print(dataframe.groupby(target)[num_cols].mean())\n",
    "    print(\"##########\")\n",
    "    \n",
    "for col in num_cols:\n",
    "    target_analiz_num(df, col, \"OUTCOME\")"
   ]
  },
  {
   "cell_type": "code",
   "execution_count": 12,
   "id": "8ed18730",
   "metadata": {
    "execution": {
     "iopub.execute_input": "2024-06-26T11:43:42.061375Z",
     "iopub.status.busy": "2024-06-26T11:43:42.060158Z",
     "iopub.status.idle": "2024-06-26T11:43:42.077618Z",
     "shell.execute_reply": "2024-06-26T11:43:42.076485Z"
    },
    "papermill": {
     "duration": 0.037714,
     "end_time": "2024-06-26T11:43:42.080501",
     "exception": false,
     "start_time": "2024-06-26T11:43:42.042787",
     "status": "completed"
    },
    "tags": []
   },
   "outputs": [],
   "source": [
    "# corelation  \n",
    "corr = df.corr()\n",
    "corr_df= corr.unstack().sort_values(ascending=False)"
   ]
  },
  {
   "cell_type": "code",
   "execution_count": 13,
   "id": "28cb1695",
   "metadata": {
    "execution": {
     "iopub.execute_input": "2024-06-26T11:43:42.112028Z",
     "iopub.status.busy": "2024-06-26T11:43:42.110927Z",
     "iopub.status.idle": "2024-06-26T11:43:42.121053Z",
     "shell.execute_reply": "2024-06-26T11:43:42.119566Z"
    },
    "papermill": {
     "duration": 0.028846,
     "end_time": "2024-06-26T11:43:42.123742",
     "exception": false,
     "start_time": "2024-06-26T11:43:42.094896",
     "status": "completed"
    },
    "tags": []
   },
   "outputs": [],
   "source": [
    "corr_df= pd.DataFrame(corr_df)\n",
    "corr_df.reset_index(inplace=True)\n",
    "corr_df.columns=[\"colon1\",\"colon2\",\"corr\"]"
   ]
  },
  {
   "cell_type": "code",
   "execution_count": 14,
   "id": "924abe24",
   "metadata": {
    "execution": {
     "iopub.execute_input": "2024-06-26T11:43:42.154857Z",
     "iopub.status.busy": "2024-06-26T11:43:42.154446Z",
     "iopub.status.idle": "2024-06-26T11:43:42.171674Z",
     "shell.execute_reply": "2024-06-26T11:43:42.170244Z"
    },
    "papermill": {
     "duration": 0.03597,
     "end_time": "2024-06-26T11:43:42.174275",
     "exception": false,
     "start_time": "2024-06-26T11:43:42.138305",
     "status": "completed"
    },
    "tags": []
   },
   "outputs": [
    {
     "data": {
      "text/html": [
       "<div>\n",
       "<style scoped>\n",
       "    .dataframe tbody tr th:only-of-type {\n",
       "        vertical-align: middle;\n",
       "    }\n",
       "\n",
       "    .dataframe tbody tr th {\n",
       "        vertical-align: top;\n",
       "    }\n",
       "\n",
       "    .dataframe thead th {\n",
       "        text-align: right;\n",
       "    }\n",
       "</style>\n",
       "<table border=\"1\" class=\"dataframe\">\n",
       "  <thead>\n",
       "    <tr style=\"text-align: right;\">\n",
       "      <th></th>\n",
       "      <th>colon1</th>\n",
       "      <th>colon2</th>\n",
       "      <th>corr</th>\n",
       "    </tr>\n",
       "  </thead>\n",
       "  <tbody>\n",
       "    <tr>\n",
       "      <th>12</th>\n",
       "      <td>OUTCOME</td>\n",
       "      <td>GLUCOSE</td>\n",
       "      <td>0.467</td>\n",
       "    </tr>\n",
       "    <tr>\n",
       "      <th>20</th>\n",
       "      <td>OUTCOME</td>\n",
       "      <td>BMI</td>\n",
       "      <td>0.293</td>\n",
       "    </tr>\n",
       "    <tr>\n",
       "      <th>28</th>\n",
       "      <td>OUTCOME</td>\n",
       "      <td>AGE</td>\n",
       "      <td>0.238</td>\n",
       "    </tr>\n",
       "    <tr>\n",
       "      <th>29</th>\n",
       "      <td>OUTCOME</td>\n",
       "      <td>PREGNANCIES</td>\n",
       "      <td>0.222</td>\n",
       "    </tr>\n",
       "    <tr>\n",
       "      <th>41</th>\n",
       "      <td>OUTCOME</td>\n",
       "      <td>DIABETESPEDIGREEFUNCTION</td>\n",
       "      <td>0.174</td>\n",
       "    </tr>\n",
       "    <tr>\n",
       "      <th>52</th>\n",
       "      <td>OUTCOME</td>\n",
       "      <td>INSULIN</td>\n",
       "      <td>0.131</td>\n",
       "    </tr>\n",
       "    <tr>\n",
       "      <th>57</th>\n",
       "      <td>OUTCOME</td>\n",
       "      <td>SKINTHICKNESS</td>\n",
       "      <td>0.075</td>\n",
       "    </tr>\n",
       "    <tr>\n",
       "      <th>59</th>\n",
       "      <td>OUTCOME</td>\n",
       "      <td>BLOODPRESSURE</td>\n",
       "      <td>0.065</td>\n",
       "    </tr>\n",
       "  </tbody>\n",
       "</table>\n",
       "</div>"
      ],
      "text/plain": [
       "     colon1                    colon2  corr\n",
       "12  OUTCOME                   GLUCOSE 0.467\n",
       "20  OUTCOME                       BMI 0.293\n",
       "28  OUTCOME                       AGE 0.238\n",
       "29  OUTCOME               PREGNANCIES 0.222\n",
       "41  OUTCOME  DIABETESPEDIGREEFUNCTION 0.174\n",
       "52  OUTCOME                   INSULIN 0.131\n",
       "57  OUTCOME             SKINTHICKNESS 0.075\n",
       "59  OUTCOME             BLOODPRESSURE 0.065"
      ]
     },
     "execution_count": 14,
     "metadata": {},
     "output_type": "execute_result"
    }
   ],
   "source": [
    "corr_df[(corr_df[\"colon1\"]==\"OUTCOME\") & (corr_df[\"corr\"].apply(lambda x: x!=1))].head(10)"
   ]
  },
  {
   "cell_type": "code",
   "execution_count": 15,
   "id": "c4bf10e4",
   "metadata": {
    "execution": {
     "iopub.execute_input": "2024-06-26T11:43:42.206840Z",
     "iopub.status.busy": "2024-06-26T11:43:42.206440Z",
     "iopub.status.idle": "2024-06-26T11:43:42.962602Z",
     "shell.execute_reply": "2024-06-26T11:43:42.960897Z"
    },
    "papermill": {
     "duration": 0.77636,
     "end_time": "2024-06-26T11:43:42.965827",
     "exception": false,
     "start_time": "2024-06-26T11:43:42.189467",
     "status": "completed"
    },
    "tags": []
   },
   "outputs": [
    {
     "data": {
      "image/png": "[encoded data removed]",
      "text/plain": [
       "<Figure size 1800x1300 with 2 Axes>"
      ]
     },
     "metadata": {},
     "output_type": "display_data"
    }
   ],
   "source": [
    "# Korelasyon Matrisi\n",
    "f, ax = plt.subplots(figsize=[18, 13])\n",
    "sns.heatmap(df.corr(), annot=True, fmt=\".2f\", ax=ax, cmap=\"magma\")\n",
    "ax.set_title(\"Correlation Matrix\", fontsize=20)\n",
    "plt.show(block=True)"
   ]
  },
  {
   "cell_type": "markdown",
   "id": "e92abd82",
   "metadata": {
    "papermill": {
     "duration": 0.02311,
     "end_time": "2024-06-26T11:43:43.007372",
     "exception": false,
     "start_time": "2024-06-26T11:43:42.984262",
     "status": "completed"
    },
    "tags": []
   },
   "source": [
    "# Base Model"
   ]
  },
  {
   "cell_type": "code",
   "execution_count": 16,
   "id": "ae2e70f6",
   "metadata": {
    "execution": {
     "iopub.execute_input": "2024-06-26T11:43:43.063511Z",
     "iopub.status.busy": "2024-06-26T11:43:43.062865Z",
     "iopub.status.idle": "2024-06-26T11:43:43.482141Z",
     "shell.execute_reply": "2024-06-26T11:43:43.480783Z"
    },
    "papermill": {
     "duration": 0.453958,
     "end_time": "2024-06-26T11:43:43.485221",
     "exception": false,
     "start_time": "2024-06-26T11:43:43.031263",
     "status": "completed"
    },
    "tags": []
   },
   "outputs": [
    {
     "name": "stdout",
     "output_type": "stream",
     "text": [
      "Accuracy: 0.77\n"
     ]
    }
   ],
   "source": [
    "from sklearn.ensemble import RandomForestClassifier\n",
    "from sklearn.metrics import accuracy_score, precision_score, recall_score, f1_score, roc_auc_score\n",
    "y = df[\"OUTCOME\"]\n",
    "X = df.drop(\"OUTCOME\", axis=1) # axis:1 stn\n",
    "X_train, X_test, y_train, y_test = train_test_split(X, y, test_size=0.30, random_state=17)\n",
    "\n",
    "rf_model = RandomForestClassifier(random_state=46).fit(X_train, y_train)\n",
    "y_pred = rf_model.predict(X_test)\n",
    "\n",
    "print(f\"Accuracy: {round(accuracy_score(y_pred, y_test), 2)}\")"
   ]
  },
  {
   "cell_type": "markdown",
   "id": "eb308fb3",
   "metadata": {
    "papermill": {
     "duration": 0.017265,
     "end_time": "2024-06-26T11:43:43.519454",
     "exception": false,
     "start_time": "2024-06-26T11:43:43.502189",
     "status": "completed"
    },
    "tags": []
   },
   "source": [
    "# Feature Engineering "
   ]
  },
  {
   "cell_type": "code",
   "execution_count": 17,
   "id": "b1d4a932",
   "metadata": {
    "execution": {
     "iopub.execute_input": "2024-06-26T11:43:43.554969Z",
     "iopub.status.busy": "2024-06-26T11:43:43.554559Z",
     "iopub.status.idle": "2024-06-26T11:43:43.592806Z",
     "shell.execute_reply": "2024-06-26T11:43:43.591426Z"
    },
    "papermill": {
     "duration": 0.059728,
     "end_time": "2024-06-26T11:43:43.595664",
     "exception": false,
     "start_time": "2024-06-26T11:43:43.535936",
     "status": "completed"
    },
    "tags": []
   },
   "outputs": [
    {
     "data": {
      "text/html": [
       "<div>\n",
       "<style scoped>\n",
       "    .dataframe tbody tr th:only-of-type {\n",
       "        vertical-align: middle;\n",
       "    }\n",
       "\n",
       "    .dataframe tbody tr th {\n",
       "        vertical-align: top;\n",
       "    }\n",
       "\n",
       "    .dataframe thead th {\n",
       "        text-align: right;\n",
       "    }\n",
       "</style>\n",
       "<table border=\"1\" class=\"dataframe\">\n",
       "  <thead>\n",
       "    <tr style=\"text-align: right;\">\n",
       "      <th></th>\n",
       "      <th>count</th>\n",
       "      <th>mean</th>\n",
       "      <th>std</th>\n",
       "      <th>min</th>\n",
       "      <th>25%</th>\n",
       "      <th>50%</th>\n",
       "      <th>75%</th>\n",
       "      <th>max</th>\n",
       "    </tr>\n",
       "  </thead>\n",
       "  <tbody>\n",
       "    <tr>\n",
       "      <th>PREGNANCIES</th>\n",
       "      <td>768.000</td>\n",
       "      <td>3.845</td>\n",
       "      <td>3.370</td>\n",
       "      <td>0.000</td>\n",
       "      <td>1.000</td>\n",
       "      <td>3.000</td>\n",
       "      <td>6.000</td>\n",
       "      <td>17.000</td>\n",
       "    </tr>\n",
       "    <tr>\n",
       "      <th>GLUCOSE</th>\n",
       "      <td>768.000</td>\n",
       "      <td>120.895</td>\n",
       "      <td>31.973</td>\n",
       "      <td>0.000</td>\n",
       "      <td>99.000</td>\n",
       "      <td>117.000</td>\n",
       "      <td>140.250</td>\n",
       "      <td>199.000</td>\n",
       "    </tr>\n",
       "    <tr>\n",
       "      <th>BLOODPRESSURE</th>\n",
       "      <td>768.000</td>\n",
       "      <td>69.105</td>\n",
       "      <td>19.356</td>\n",
       "      <td>0.000</td>\n",
       "      <td>62.000</td>\n",
       "      <td>72.000</td>\n",
       "      <td>80.000</td>\n",
       "      <td>122.000</td>\n",
       "    </tr>\n",
       "    <tr>\n",
       "      <th>SKINTHICKNESS</th>\n",
       "      <td>768.000</td>\n",
       "      <td>20.536</td>\n",
       "      <td>15.952</td>\n",
       "      <td>0.000</td>\n",
       "      <td>0.000</td>\n",
       "      <td>23.000</td>\n",
       "      <td>32.000</td>\n",
       "      <td>99.000</td>\n",
       "    </tr>\n",
       "    <tr>\n",
       "      <th>INSULIN</th>\n",
       "      <td>768.000</td>\n",
       "      <td>79.799</td>\n",
       "      <td>115.244</td>\n",
       "      <td>0.000</td>\n",
       "      <td>0.000</td>\n",
       "      <td>30.500</td>\n",
       "      <td>127.250</td>\n",
       "      <td>846.000</td>\n",
       "    </tr>\n",
       "    <tr>\n",
       "      <th>BMI</th>\n",
       "      <td>768.000</td>\n",
       "      <td>31.993</td>\n",
       "      <td>7.884</td>\n",
       "      <td>0.000</td>\n",
       "      <td>27.300</td>\n",
       "      <td>32.000</td>\n",
       "      <td>36.600</td>\n",
       "      <td>67.100</td>\n",
       "    </tr>\n",
       "    <tr>\n",
       "      <th>DIABETESPEDIGREEFUNCTION</th>\n",
       "      <td>768.000</td>\n",
       "      <td>0.472</td>\n",
       "      <td>0.331</td>\n",
       "      <td>0.078</td>\n",
       "      <td>0.244</td>\n",
       "      <td>0.372</td>\n",
       "      <td>0.626</td>\n",
       "      <td>2.420</td>\n",
       "    </tr>\n",
       "    <tr>\n",
       "      <th>AGE</th>\n",
       "      <td>768.000</td>\n",
       "      <td>33.241</td>\n",
       "      <td>11.760</td>\n",
       "      <td>21.000</td>\n",
       "      <td>24.000</td>\n",
       "      <td>29.000</td>\n",
       "      <td>41.000</td>\n",
       "      <td>81.000</td>\n",
       "    </tr>\n",
       "  </tbody>\n",
       "</table>\n",
       "</div>"
      ],
      "text/plain": [
       "                           count    mean     std    min    25%     50%     75%     max\n",
       "PREGNANCIES              768.000   3.845   3.370  0.000  1.000   3.000   6.000  17.000\n",
       "GLUCOSE                  768.000 120.895  31.973  0.000 99.000 117.000 140.250 199.000\n",
       "BLOODPRESSURE            768.000  69.105  19.356  0.000 62.000  72.000  80.000 122.000\n",
       "SKINTHICKNESS            768.000  20.536  15.952  0.000  0.000  23.000  32.000  99.000\n",
       "INSULIN                  768.000  79.799 115.244  0.000  0.000  30.500 127.250 846.000\n",
       "BMI                      768.000  31.993   7.884  0.000 27.300  32.000  36.600  67.100\n",
       "DIABETESPEDIGREEFUNCTION 768.000   0.472   0.331  0.078  0.244   0.372   0.626   2.420\n",
       "AGE                      768.000  33.241  11.760 21.000 24.000  29.000  41.000  81.000"
      ]
     },
     "execution_count": 17,
     "metadata": {},
     "output_type": "execute_result"
    }
   ],
   "source": [
    "df[num_cols].describe().T"
   ]
  },
  {
   "cell_type": "code",
   "execution_count": 18,
   "id": "6c095318",
   "metadata": {
    "execution": {
     "iopub.execute_input": "2024-06-26T11:43:43.632119Z",
     "iopub.status.busy": "2024-06-26T11:43:43.631694Z",
     "iopub.status.idle": "2024-06-26T11:43:43.641609Z",
     "shell.execute_reply": "2024-06-26T11:43:43.640411Z"
    },
    "papermill": {
     "duration": 0.031294,
     "end_time": "2024-06-26T11:43:43.644193",
     "exception": false,
     "start_time": "2024-06-26T11:43:43.612899",
     "status": "completed"
    },
    "tags": []
   },
   "outputs": [
    {
     "data": {
      "text/plain": [
       "PREGNANCIES                 0\n",
       "GLUCOSE                     0\n",
       "BLOODPRESSURE               0\n",
       "SKINTHICKNESS               0\n",
       "INSULIN                     0\n",
       "BMI                         0\n",
       "DIABETESPEDIGREEFUNCTION    0\n",
       "AGE                         0\n",
       "OUTCOME                     0\n",
       "dtype: int64"
      ]
     },
     "execution_count": 18,
     "metadata": {},
     "output_type": "execute_result"
    }
   ],
   "source": [
    "df.isnull().sum()"
   ]
  },
  {
   "cell_type": "code",
   "execution_count": 19,
   "id": "6ba6aabb",
   "metadata": {
    "execution": {
     "iopub.execute_input": "2024-06-26T11:43:43.680970Z",
     "iopub.status.busy": "2024-06-26T11:43:43.680546Z",
     "iopub.status.idle": "2024-06-26T11:43:43.699572Z",
     "shell.execute_reply": "2024-06-26T11:43:43.698253Z"
    },
    "papermill": {
     "duration": 0.040788,
     "end_time": "2024-06-26T11:43:43.702173",
     "exception": false,
     "start_time": "2024-06-26T11:43:43.661385",
     "status": "completed"
    },
    "tags": []
   },
   "outputs": [
    {
     "name": "stdout",
     "output_type": "stream",
     "text": [
      "Empty DataFrame\n",
      "Columns: [n_miss, ratio]\n",
      "Index: []\n"
     ]
    },
    {
     "data": {
      "text/plain": [
       "[]"
      ]
     },
     "execution_count": 19,
     "metadata": {},
     "output_type": "execute_result"
    }
   ],
   "source": [
    "def missing_values_table(dataframe, na_name=False):\n",
    "    na_columns = [col for col in dataframe.columns if dataframe[col].isnull().sum() > 0]\n",
    "\n",
    "    n_miss = dataframe[na_columns].isnull().sum().sort_values(ascending=False)\n",
    "    ratio = (dataframe[na_columns].isnull().sum() / dataframe.shape[0] * 100).sort_values(ascending=False)\n",
    "    missing_df = pd.concat([n_miss, np.round(ratio, 2)], axis=1, keys=['n_miss', 'ratio'])\n",
    "    print(missing_df, end=\"\\n\")  # bir boşluk bırakmak için \\n koyuyoruz\n",
    "\n",
    "    if na_name:\n",
    "        return na_columns\n",
    "\n",
    "\n",
    "missing_values_table(df, True)"
   ]
  },
  {
   "cell_type": "code",
   "execution_count": 20,
   "id": "8b652ca5",
   "metadata": {
    "execution": {
     "iopub.execute_input": "2024-06-26T11:43:43.739144Z",
     "iopub.status.busy": "2024-06-26T11:43:43.738701Z",
     "iopub.status.idle": "2024-06-26T11:43:43.749086Z",
     "shell.execute_reply": "2024-06-26T11:43:43.747851Z"
    },
    "papermill": {
     "duration": 0.032068,
     "end_time": "2024-06-26T11:43:43.751678",
     "exception": false,
     "start_time": "2024-06-26T11:43:43.719610",
     "status": "completed"
    },
    "tags": []
   },
   "outputs": [
    {
     "data": {
      "text/plain": [
       "OUTCOME\n",
       "0    68.792\n",
       "1   100.336\n",
       "Name: INSULIN, dtype: float64"
      ]
     },
     "execution_count": 20,
     "metadata": {},
     "output_type": "execute_result"
    }
   ],
   "source": [
    "df.groupby(\"OUTCOME\")[\"INSULIN\"].mean()"
   ]
  },
  {
   "cell_type": "code",
   "execution_count": 21,
   "id": "df24d9ad",
   "metadata": {
    "execution": {
     "iopub.execute_input": "2024-06-26T11:43:43.789348Z",
     "iopub.status.busy": "2024-06-26T11:43:43.788919Z",
     "iopub.status.idle": "2024-06-26T11:43:43.800841Z",
     "shell.execute_reply": "2024-06-26T11:43:43.799668Z"
    },
    "papermill": {
     "duration": 0.034009,
     "end_time": "2024-06-26T11:43:43.803301",
     "exception": false,
     "start_time": "2024-06-26T11:43:43.769292",
     "status": "completed"
    },
    "tags": []
   },
   "outputs": [],
   "source": [
    "zero_columns = [\"GLUCOSE\",\"SKINTHICKNESS\",\"INSULIN\",\"BMI\",\"BLOODPRESSURE\"]\n",
    "for col in zero_columns:\n",
    "    df[col]= df[col].apply(lambda x: np.nan if x==0 else x)"
   ]
  },
  {
   "cell_type": "code",
   "execution_count": 22,
   "id": "49bc7079",
   "metadata": {
    "execution": {
     "iopub.execute_input": "2024-06-26T11:43:43.840406Z",
     "iopub.status.busy": "2024-06-26T11:43:43.839952Z",
     "iopub.status.idle": "2024-06-26T11:43:43.855550Z",
     "shell.execute_reply": "2024-06-26T11:43:43.854176Z"
    },
    "papermill": {
     "duration": 0.037374,
     "end_time": "2024-06-26T11:43:43.858380",
     "exception": false,
     "start_time": "2024-06-26T11:43:43.821006",
     "status": "completed"
    },
    "tags": []
   },
   "outputs": [],
   "source": [
    "for col in zero_columns:\n",
    "    df[col]=df[col].fillna(df.groupby(\"OUTCOME\")[col].transform(\"mean\"))"
   ]
  },
  {
   "cell_type": "markdown",
   "id": "986780a7",
   "metadata": {
    "papermill": {
     "duration": 0.017325,
     "end_time": "2024-06-26T11:43:43.893272",
     "exception": false,
     "start_time": "2024-06-26T11:43:43.875947",
     "status": "completed"
    },
    "tags": []
   },
   "source": [
    "# Outlier Detection"
   ]
  },
  {
   "cell_type": "code",
   "execution_count": 23,
   "id": "2a7dbd89",
   "metadata": {
    "execution": {
     "iopub.execute_input": "2024-06-26T11:43:43.931720Z",
     "iopub.status.busy": "2024-06-26T11:43:43.931295Z",
     "iopub.status.idle": "2024-06-26T11:43:43.944803Z",
     "shell.execute_reply": "2024-06-26T11:43:43.943633Z"
    },
    "papermill": {
     "duration": 0.035327,
     "end_time": "2024-06-26T11:43:43.947527",
     "exception": false,
     "start_time": "2024-06-26T11:43:43.912200",
     "status": "completed"
    },
    "tags": []
   },
   "outputs": [
    {
     "data": {
      "text/plain": [
       "(-6.5, 13.5)"
      ]
     },
     "execution_count": 23,
     "metadata": {},
     "output_type": "execute_result"
    }
   ],
   "source": [
    "# outlier analysis - threshold value determination\n",
    "def outlier_th(dataframe, col_name, q1=0.25, q3=0.75):\n",
    "    quartile1 = dataframe[col_name].quantile(q1)\n",
    "    quartile3 = dataframe[col_name].quantile(q3)\n",
    "    interquantile_range = quartile3 - quartile1\n",
    "    up_limit = quartile3 + 1.5 * interquantile_range\n",
    "    low_limit = quartile1 - 1.5 * interquantile_range\n",
    "    return low_limit, up_limit\n",
    "outlier_th(df, \"PREGNANCIES\")"
   ]
  },
  {
   "cell_type": "code",
   "execution_count": 24,
   "id": "f77715a8",
   "metadata": {
    "execution": {
     "iopub.execute_input": "2024-06-26T11:43:43.986732Z",
     "iopub.status.busy": "2024-06-26T11:43:43.985796Z",
     "iopub.status.idle": "2024-06-26T11:43:44.024450Z",
     "shell.execute_reply": "2024-06-26T11:43:44.022579Z"
    },
    "papermill": {
     "duration": 0.062051,
     "end_time": "2024-06-26T11:43:44.027638",
     "exception": false,
     "start_time": "2024-06-26T11:43:43.965587",
     "status": "completed"
    },
    "tags": []
   },
   "outputs": [
    {
     "name": "stdout",
     "output_type": "stream",
     "text": [
      "PREGNANCIES True\n",
      "GLUCOSE False\n",
      "BLOODPRESSURE True\n",
      "SKINTHICKNESS True\n",
      "INSULIN True\n",
      "BMI True\n",
      "DIABETESPEDIGREEFUNCTION True\n",
      "AGE True\n"
     ]
    }
   ],
   "source": [
    "# look at the variables if there is an outlier or not\n",
    "def check_outlier(dataframe, col_name):\n",
    "    low_limit, up_limit = outlier_th(dataframe, col_name)\n",
    "    if dataframe[(dataframe[col_name] > up_limit) | (dataframe[col_name] < low_limit)].any(axis=None):\n",
    "        return True\n",
    "    else:\n",
    "        return False\n",
    "\n",
    "for col in num_cols:\n",
    "    print(col, check_outlier(df, col))"
   ]
  },
  {
   "cell_type": "code",
   "execution_count": 25,
   "id": "eba6be42",
   "metadata": {
    "execution": {
     "iopub.execute_input": "2024-06-26T11:43:44.066890Z",
     "iopub.status.busy": "2024-06-26T11:43:44.066442Z",
     "iopub.status.idle": "2024-06-26T11:43:44.122445Z",
     "shell.execute_reply": "2024-06-26T11:43:44.120970Z"
    },
    "papermill": {
     "duration": 0.079431,
     "end_time": "2024-06-26T11:43:44.125773",
     "exception": false,
     "start_time": "2024-06-26T11:43:44.046342",
     "status": "completed"
    },
    "tags": []
   },
   "outputs": [
    {
     "name": "stdout",
     "output_type": "stream",
     "text": [
      "PREGNANCIES False\n",
      "GLUCOSE False\n",
      "BLOODPRESSURE False\n",
      "SKINTHICKNESS False\n",
      "INSULIN False\n",
      "BMI False\n",
      "DIABETESPEDIGREEFUNCTION False\n",
      "AGE False\n"
     ]
    },
    {
     "name": "stderr",
     "output_type": "stream",
     "text": [
      "/tmp/ipykernel_18/491114093.py:4: FutureWarning: Setting an item of incompatible dtype is deprecated and will raise an error in a future version of pandas. Value '-6.5' has dtype incompatible with int64, please explicitly cast to a compatible dtype first.\n",
      "  dataframe.loc[(dataframe[variable] < low_limit), variable] = low_limit\n",
      "/tmp/ipykernel_18/491114093.py:4: FutureWarning: Setting an item of incompatible dtype is deprecated and will raise an error in a future version of pandas. Value '-1.5' has dtype incompatible with int64, please explicitly cast to a compatible dtype first.\n",
      "  dataframe.loc[(dataframe[variable] < low_limit), variable] = low_limit\n"
     ]
    }
   ],
   "source": [
    "# we are gonna change the value with an up_limit or low_limit if they are bigger or lower than the up limit or low_limit \n",
    "def replace_with_thresholds(dataframe, variable):\n",
    "    low_limit, up_limit = outlier_th(dataframe, variable)\n",
    "    dataframe.loc[(dataframe[variable] < low_limit), variable] = low_limit\n",
    "    dataframe.loc[(dataframe[variable] > up_limit), variable] = up_limit\n",
    "\n",
    "for col in num_cols:\n",
    "    replace_with_thresholds(df, col)\n",
    "\n",
    "for col in num_cols:\n",
    "    print(col, check_outlier(df, col))"
   ]
  },
  {
   "cell_type": "code",
   "execution_count": 26,
   "id": "90e30e0b",
   "metadata": {
    "execution": {
     "iopub.execute_input": "2024-06-26T11:43:44.166717Z",
     "iopub.status.busy": "2024-06-26T11:43:44.166244Z",
     "iopub.status.idle": "2024-06-26T11:43:44.197579Z",
     "shell.execute_reply": "2024-06-26T11:43:44.195911Z"
    },
    "papermill": {
     "duration": 0.056385,
     "end_time": "2024-06-26T11:43:44.201657",
     "exception": false,
     "start_time": "2024-06-26T11:43:44.145272",
     "status": "completed"
    },
    "tags": []
   },
   "outputs": [],
   "source": [
    "# new features\n",
    "df.loc[(df['AGE'] >= 18) & (df['AGE'] < 30) , 'NEW_AGE_CAT'] = \"young\"\n",
    "df.loc[(df['AGE'] >= 30) & (df['AGE'] < 45) , 'NEW_AGE_CAT'] = \"mature\"\n",
    "df.loc[(df['AGE'] >= 45) & (df['AGE'] < 65) , 'NEW_AGE_CAT'] = \"middle\"\n",
    "df.loc[(df['AGE'] >= 65) , 'NEW_AGE_CAT'] = \"old\"\n",
    "\n",
    "df.loc[(df['BMI'] <= 18), 'NEW_BMI_CAT'] =\"weak\"\n",
    "df.loc[(df['BMI'] >= 18.5) & (df['BMI'] < 25) , 'NEW_BMI_CAT'] =\"normal\"\n",
    "df.loc[(df['BMI'] >= 25) & (df['BMI'] < 30) , 'NEW_BMI_CAT'] =\"overweight\"\n",
    "df.loc[(df['BMI'] >= 30), 'NEW_BMI_CAT'] =\"obese\"\n",
    "\n",
    "df.loc[(df[\"GLUCOSE\"] < 70) & ((df[\"AGE\"] >= 21) & (df[\"AGE\"] < 50)), \"NEW_AGE_GLUCOSE_CAT\"] = \"low\"\n",
    "df.loc[((df[\"GLUCOSE\"] >= 70) & (df[\"GLUCOSE\"] < 100)) & ((df[\"AGE\"] >= 21) & (df[\"AGE\"] < 50)), \"NEW_AGE_GLUCOSE_CAT\"] = \"normal\"\n",
    "df.loc[(df[\"GLUCOSE\"] > 140) & (df[\"AGE\"] >= 50), \"NEW_AGE_GLUCOSE_CAT\"] = \"high\"\n",
    "\n",
    "df.loc[df[\"INSULIN\"] <= 120,\"INSULIN_NEW_CAT\"]=\"normal\"\n",
    "df.loc[df[\"INSULIN\"] >= 120, \"INSULIN_NEW_CAT\"]=\"anormal\"\n"
   ]
  },
  {
   "cell_type": "code",
   "execution_count": 27,
   "id": "aaa8e724",
   "metadata": {
    "execution": {
     "iopub.execute_input": "2024-06-26T11:43:44.307272Z",
     "iopub.status.busy": "2024-06-26T11:43:44.306819Z",
     "iopub.status.idle": "2024-06-26T11:43:44.324851Z",
     "shell.execute_reply": "2024-06-26T11:43:44.323408Z"
    },
    "papermill": {
     "duration": 0.10683,
     "end_time": "2024-06-26T11:43:44.327686",
     "exception": false,
     "start_time": "2024-06-26T11:43:44.220856",
     "status": "completed"
    },
    "tags": []
   },
   "outputs": [
    {
     "data": {
      "text/html": [
       "<div>\n",
       "<style scoped>\n",
       "    .dataframe tbody tr th:only-of-type {\n",
       "        vertical-align: middle;\n",
       "    }\n",
       "\n",
       "    .dataframe tbody tr th {\n",
       "        vertical-align: top;\n",
       "    }\n",
       "\n",
       "    .dataframe thead tr th {\n",
       "        text-align: left;\n",
       "    }\n",
       "\n",
       "    .dataframe thead tr:last-of-type th {\n",
       "        text-align: right;\n",
       "    }\n",
       "</style>\n",
       "<table border=\"1\" class=\"dataframe\">\n",
       "  <thead>\n",
       "    <tr>\n",
       "      <th></th>\n",
       "      <th colspan=\"2\" halign=\"left\">OUTCOME</th>\n",
       "    </tr>\n",
       "    <tr>\n",
       "      <th></th>\n",
       "      <th>mean</th>\n",
       "      <th>count</th>\n",
       "    </tr>\n",
       "    <tr>\n",
       "      <th>INSULIN_NEW_CAT</th>\n",
       "      <th></th>\n",
       "      <th></th>\n",
       "    </tr>\n",
       "  </thead>\n",
       "  <tbody>\n",
       "    <tr>\n",
       "      <th>anormal</th>\n",
       "      <td>0.414</td>\n",
       "      <td>584</td>\n",
       "    </tr>\n",
       "    <tr>\n",
       "      <th>normal</th>\n",
       "      <td>0.141</td>\n",
       "      <td>184</td>\n",
       "    </tr>\n",
       "  </tbody>\n",
       "</table>\n",
       "</div>"
      ],
      "text/plain": [
       "                OUTCOME      \n",
       "                   mean count\n",
       "INSULIN_NEW_CAT              \n",
       "anormal           0.414   584\n",
       "normal            0.141   184"
      ]
     },
     "execution_count": 27,
     "metadata": {},
     "output_type": "execute_result"
    }
   ],
   "source": [
    "df.groupby(\"INSULIN_NEW_CAT\").agg({\"OUTCOME\": [\"mean\",\"count\"]})\n"
   ]
  },
  {
   "cell_type": "code",
   "execution_count": 28,
   "id": "c6eabe1b",
   "metadata": {
    "execution": {
     "iopub.execute_input": "2024-06-26T11:43:44.367837Z",
     "iopub.status.busy": "2024-06-26T11:43:44.367412Z",
     "iopub.status.idle": "2024-06-26T11:43:44.377755Z",
     "shell.execute_reply": "2024-06-26T11:43:44.376272Z"
    },
    "papermill": {
     "duration": 0.033877,
     "end_time": "2024-06-26T11:43:44.380691",
     "exception": false,
     "start_time": "2024-06-26T11:43:44.346814",
     "status": "completed"
    },
    "tags": []
   },
   "outputs": [],
   "source": [
    "df[\"GLUCOSE_INSULIN\"]=df[\"GLUCOSE\"]*df[\"INSULIN\"]\n",
    "df[\"INSULIN_BMI\"]=df[\"INSULIN\"]*df[\"BMI\"]\n",
    "df[\"GLUCOSE_BLOODPRESSURE\"]= df[\"GLUCOSE\"]* df[\"BLOODPRESSURE\"]\n",
    "df[\"INSULIN_BLOODPRESSURE\"]= df[\"INSULIN\"]*df[\"BLOODPRESSURE\"]"
   ]
  },
  {
   "cell_type": "code",
   "execution_count": 29,
   "id": "63eb2b73",
   "metadata": {
    "execution": {
     "iopub.execute_input": "2024-06-26T11:43:44.421006Z",
     "iopub.status.busy": "2024-06-26T11:43:44.420602Z",
     "iopub.status.idle": "2024-06-26T11:43:44.439336Z",
     "shell.execute_reply": "2024-06-26T11:43:44.438262Z"
    },
    "papermill": {
     "duration": 0.041956,
     "end_time": "2024-06-26T11:43:44.442117",
     "exception": false,
     "start_time": "2024-06-26T11:43:44.400161",
     "status": "completed"
    },
    "tags": []
   },
   "outputs": [],
   "source": [
    "#age-bmı\n",
    "\n",
    "df.loc[(df[\"NEW_AGE_CAT\"]==\"mature\") & (df[\"NEW_BMI_CAT\"]==\"Normal Weight\"),\"AGE_BMI_CAT\"]=\"matureNormalWeight\"\n",
    "df.loc[(df[\"NEW_AGE_CAT\"]==\"mature\") & (df[\"NEW_BMI_CAT\"]==\"Overweight\"),\"AGE_BMI_CAT\"]=\"matureOverweight\"\n",
    "df.loc[(df[\"NEW_AGE_CAT\"]==\"mature\") & (df[\"NEW_BMI_CAT\"]==\"Obese\"),\"AGE_BMI_CAT\"]=\"matureObese\"\n",
    "df.loc[(df[\"NEW_AGE_CAT\"]==\"senior\") & (df[\"NEW_BMI_CAT\"]==\"Normal Weight\"),\"AGE_BMI_CAT\"]=\"seniorNormalWeight\"\n",
    "df.loc[(df[\"NEW_AGE_CAT\"]==\"senior\") & (df[\"NEW_BMI_CAT\"]==\"Overweight\"),\"AGE_BMI_CAT\"]=\"seniorOverweight\"\n",
    "df.loc[(df[\"NEW_AGE_CAT\"]==\"senior\") & (df[\"NEW_BMI_CAT\"]==\"Obese\"),\"AGE_BMI_CAT\"]=\"seniorObese\""
   ]
  },
  {
   "cell_type": "code",
   "execution_count": 30,
   "id": "bb9d6508",
   "metadata": {
    "execution": {
     "iopub.execute_input": "2024-06-26T11:43:44.480700Z",
     "iopub.status.busy": "2024-06-26T11:43:44.480220Z",
     "iopub.status.idle": "2024-06-26T11:43:44.502214Z",
     "shell.execute_reply": "2024-06-26T11:43:44.500893Z"
    },
    "papermill": {
     "duration": 0.044305,
     "end_time": "2024-06-26T11:43:44.504765",
     "exception": false,
     "start_time": "2024-06-26T11:43:44.460460",
     "status": "completed"
    },
    "tags": []
   },
   "outputs": [
    {
     "data": {
      "text/html": [
       "<div>\n",
       "<style scoped>\n",
       "    .dataframe tbody tr th:only-of-type {\n",
       "        vertical-align: middle;\n",
       "    }\n",
       "\n",
       "    .dataframe tbody tr th {\n",
       "        vertical-align: top;\n",
       "    }\n",
       "\n",
       "    .dataframe thead th {\n",
       "        text-align: right;\n",
       "    }\n",
       "</style>\n",
       "<table border=\"1\" class=\"dataframe\">\n",
       "  <thead>\n",
       "    <tr style=\"text-align: right;\">\n",
       "      <th></th>\n",
       "      <th>PREGNANCIES</th>\n",
       "      <th>GLUCOSE</th>\n",
       "      <th>BLOODPRESSURE</th>\n",
       "      <th>SKINTHICKNESS</th>\n",
       "      <th>INSULIN</th>\n",
       "      <th>BMI</th>\n",
       "      <th>DIABETESPEDIGREEFUNCTION</th>\n",
       "      <th>AGE</th>\n",
       "      <th>OUTCOME</th>\n",
       "      <th>NEW_AGE_CAT</th>\n",
       "      <th>NEW_BMI_CAT</th>\n",
       "      <th>NEW_AGE_GLUCOSE_CAT</th>\n",
       "      <th>INSULIN_NEW_CAT</th>\n",
       "      <th>GLUCOSE_INSULIN</th>\n",
       "      <th>INSULIN_BMI</th>\n",
       "      <th>GLUCOSE_BLOODPRESSURE</th>\n",
       "      <th>INSULIN_BLOODPRESSURE</th>\n",
       "      <th>AGE_BMI_CAT</th>\n",
       "    </tr>\n",
       "  </thead>\n",
       "  <tbody>\n",
       "    <tr>\n",
       "      <th>0</th>\n",
       "      <td>6.000</td>\n",
       "      <td>148.000</td>\n",
       "      <td>72.000</td>\n",
       "      <td>35.000</td>\n",
       "      <td>206.846</td>\n",
       "      <td>33.600</td>\n",
       "      <td>0.627</td>\n",
       "      <td>50.000</td>\n",
       "      <td>1</td>\n",
       "      <td>middle</td>\n",
       "      <td>obese</td>\n",
       "      <td>high</td>\n",
       "      <td>anormal</td>\n",
       "      <td>30613.231</td>\n",
       "      <td>6950.031</td>\n",
       "      <td>10656.000</td>\n",
       "      <td>14892.923</td>\n",
       "      <td>NaN</td>\n",
       "    </tr>\n",
       "    <tr>\n",
       "      <th>1</th>\n",
       "      <td>1.000</td>\n",
       "      <td>85.000</td>\n",
       "      <td>66.000</td>\n",
       "      <td>29.000</td>\n",
       "      <td>130.288</td>\n",
       "      <td>26.600</td>\n",
       "      <td>0.351</td>\n",
       "      <td>31.000</td>\n",
       "      <td>0</td>\n",
       "      <td>mature</td>\n",
       "      <td>overweight</td>\n",
       "      <td>normal</td>\n",
       "      <td>anormal</td>\n",
       "      <td>11074.470</td>\n",
       "      <td>3465.658</td>\n",
       "      <td>5610.000</td>\n",
       "      <td>8599.000</td>\n",
       "      <td>NaN</td>\n",
       "    </tr>\n",
       "    <tr>\n",
       "      <th>2</th>\n",
       "      <td>8.000</td>\n",
       "      <td>183.000</td>\n",
       "      <td>64.000</td>\n",
       "      <td>33.000</td>\n",
       "      <td>206.846</td>\n",
       "      <td>23.300</td>\n",
       "      <td>0.672</td>\n",
       "      <td>32.000</td>\n",
       "      <td>1</td>\n",
       "      <td>mature</td>\n",
       "      <td>normal</td>\n",
       "      <td>NaN</td>\n",
       "      <td>anormal</td>\n",
       "      <td>37852.846</td>\n",
       "      <td>4819.515</td>\n",
       "      <td>11712.000</td>\n",
       "      <td>13238.154</td>\n",
       "      <td>NaN</td>\n",
       "    </tr>\n",
       "    <tr>\n",
       "      <th>3</th>\n",
       "      <td>1.000</td>\n",
       "      <td>89.000</td>\n",
       "      <td>66.000</td>\n",
       "      <td>23.000</td>\n",
       "      <td>94.000</td>\n",
       "      <td>28.100</td>\n",
       "      <td>0.167</td>\n",
       "      <td>21.000</td>\n",
       "      <td>0</td>\n",
       "      <td>young</td>\n",
       "      <td>overweight</td>\n",
       "      <td>normal</td>\n",
       "      <td>normal</td>\n",
       "      <td>8366.000</td>\n",
       "      <td>2641.400</td>\n",
       "      <td>5874.000</td>\n",
       "      <td>6204.000</td>\n",
       "      <td>NaN</td>\n",
       "    </tr>\n",
       "    <tr>\n",
       "      <th>4</th>\n",
       "      <td>0.000</td>\n",
       "      <td>137.000</td>\n",
       "      <td>40.000</td>\n",
       "      <td>35.000</td>\n",
       "      <td>168.000</td>\n",
       "      <td>43.100</td>\n",
       "      <td>1.200</td>\n",
       "      <td>33.000</td>\n",
       "      <td>1</td>\n",
       "      <td>mature</td>\n",
       "      <td>obese</td>\n",
       "      <td>NaN</td>\n",
       "      <td>anormal</td>\n",
       "      <td>23016.000</td>\n",
       "      <td>7240.800</td>\n",
       "      <td>5480.000</td>\n",
       "      <td>6720.000</td>\n",
       "      <td>NaN</td>\n",
       "    </tr>\n",
       "  </tbody>\n",
       "</table>\n",
       "</div>"
      ],
      "text/plain": [
       "   PREGNANCIES  GLUCOSE  BLOODPRESSURE  SKINTHICKNESS  INSULIN    BMI  DIABETESPEDIGREEFUNCTION    AGE  OUTCOME NEW_AGE_CAT NEW_BMI_CAT NEW_AGE_GLUCOSE_CAT INSULIN_NEW_CAT  GLUCOSE_INSULIN  INSULIN_BMI  GLUCOSE_BLOODPRESSURE  INSULIN_BLOODPRESSURE AGE_BMI_CAT\n",
       "0        6.000  148.000         72.000         35.000  206.846 33.600                     0.627 50.000        1      middle       obese                high         anormal        30613.231     6950.031              10656.000              14892.923         NaN\n",
       "1        1.000   85.000         66.000         29.000  130.288 26.600                     0.351 31.000        0      mature  overweight              normal         anormal        11074.470     3465.658               5610.000               8599.000         NaN\n",
       "2        8.000  183.000         64.000         33.000  206.846 23.300                     0.672 32.000        1      mature      normal                 NaN         anormal        37852.846     4819.515              11712.000              13238.154         NaN\n",
       "3        1.000   89.000         66.000         23.000   94.000 28.100                     0.167 21.000        0       young  overweight              normal          normal         8366.000     2641.400               5874.000               6204.000         NaN\n",
       "4        0.000  137.000         40.000         35.000  168.000 43.100                     1.200 33.000        1      mature       obese                 NaN         anormal        23016.000     7240.800               5480.000               6720.000         NaN"
      ]
     },
     "execution_count": 30,
     "metadata": {},
     "output_type": "execute_result"
    }
   ],
   "source": [
    "df.head()"
   ]
  },
  {
   "cell_type": "code",
   "execution_count": 31,
   "id": "09ded727",
   "metadata": {
    "execution": {
     "iopub.execute_input": "2024-06-26T11:43:44.545649Z",
     "iopub.status.busy": "2024-06-26T11:43:44.544873Z",
     "iopub.status.idle": "2024-06-26T11:43:44.561628Z",
     "shell.execute_reply": "2024-06-26T11:43:44.559640Z"
    },
    "papermill": {
     "duration": 0.040633,
     "end_time": "2024-06-26T11:43:44.564719",
     "exception": false,
     "start_time": "2024-06-26T11:43:44.524086",
     "status": "completed"
    },
    "tags": []
   },
   "outputs": [
    {
     "name": "stdout",
     "output_type": "stream",
     "text": [
      "Observations: 768\n",
      "Variables: 18\n",
      "cat_cols: 6\n",
      "num_cols: 12\n",
      "cat_but_car: 0\n",
      "num_but_cat: 1\n"
     ]
    }
   ],
   "source": [
    "cat_cols, num_cols, cat_but_car = grab_col_names(df)\n",
    "\n",
    "cat_cols=[ col for col in cat_cols if col != \"OUTCOME\"]"
   ]
  },
  {
   "cell_type": "code",
   "execution_count": 32,
   "id": "e48db8ba",
   "metadata": {
    "execution": {
     "iopub.execute_input": "2024-06-26T11:43:44.605513Z",
     "iopub.status.busy": "2024-06-26T11:43:44.605088Z",
     "iopub.status.idle": "2024-06-26T11:43:44.614396Z",
     "shell.execute_reply": "2024-06-26T11:43:44.613236Z"
    },
    "papermill": {
     "duration": 0.033127,
     "end_time": "2024-06-26T11:43:44.616942",
     "exception": false,
     "start_time": "2024-06-26T11:43:44.583815",
     "status": "completed"
    },
    "tags": []
   },
   "outputs": [],
   "source": [
    "# label encoder\n",
    "def label_encoder(dataframe, binary_col):\n",
    "    labelencoder = LabelEncoder()\n",
    "    dataframe[binary_col] = labelencoder.fit_transform(dataframe[binary_col])\n",
    "    return dataframe\n",
    "\n",
    "binary_cols = [col for col in df.columns if df[col].dtype not in [int, float]\n",
    "               and df[col].nunique() == 2]\n",
    "\n",
    "for col in binary_cols:\n",
    "    df = label_encoder(df,col)"
   ]
  },
  {
   "cell_type": "code",
   "execution_count": 33,
   "id": "d7c280f8",
   "metadata": {
    "execution": {
     "iopub.execute_input": "2024-06-26T11:43:44.657534Z",
     "iopub.status.busy": "2024-06-26T11:43:44.657095Z",
     "iopub.status.idle": "2024-06-26T11:43:44.673493Z",
     "shell.execute_reply": "2024-06-26T11:43:44.672297Z"
    },
    "papermill": {
     "duration": 0.040381,
     "end_time": "2024-06-26T11:43:44.676721",
     "exception": false,
     "start_time": "2024-06-26T11:43:44.636340",
     "status": "completed"
    },
    "tags": []
   },
   "outputs": [],
   "source": [
    "# one hot encoder\n",
    "def one_hot_encoding(dataframe, cat_cols, drop_first=False):\n",
    "    dataframe = pd.get_dummies(dataframe, columns=cat_cols, drop_first=drop_first)\n",
    "    return dataframe\n",
    "\n",
    "cat_cols = [col for col in cat_cols if col not in binary_cols]\n",
    "\n",
    "df = one_hot_encoding(df, cat_cols, drop_first=True)"
   ]
  },
  {
   "cell_type": "code",
   "execution_count": 34,
   "id": "930fa332",
   "metadata": {
    "execution": {
     "iopub.execute_input": "2024-06-26T11:43:44.716964Z",
     "iopub.status.busy": "2024-06-26T11:43:44.716530Z",
     "iopub.status.idle": "2024-06-26T11:43:44.739857Z",
     "shell.execute_reply": "2024-06-26T11:43:44.738388Z"
    },
    "papermill": {
     "duration": 0.04699,
     "end_time": "2024-06-26T11:43:44.742583",
     "exception": false,
     "start_time": "2024-06-26T11:43:44.695593",
     "status": "completed"
    },
    "tags": []
   },
   "outputs": [
    {
     "data": {
      "text/html": [
       "<div>\n",
       "<style scoped>\n",
       "    .dataframe tbody tr th:only-of-type {\n",
       "        vertical-align: middle;\n",
       "    }\n",
       "\n",
       "    .dataframe tbody tr th {\n",
       "        vertical-align: top;\n",
       "    }\n",
       "\n",
       "    .dataframe thead th {\n",
       "        text-align: right;\n",
       "    }\n",
       "</style>\n",
       "<table border=\"1\" class=\"dataframe\">\n",
       "  <thead>\n",
       "    <tr style=\"text-align: right;\">\n",
       "      <th></th>\n",
       "      <th>PREGNANCIES</th>\n",
       "      <th>GLUCOSE</th>\n",
       "      <th>BLOODPRESSURE</th>\n",
       "      <th>SKINTHICKNESS</th>\n",
       "      <th>INSULIN</th>\n",
       "      <th>BMI</th>\n",
       "      <th>DIABETESPEDIGREEFUNCTION</th>\n",
       "      <th>AGE</th>\n",
       "      <th>OUTCOME</th>\n",
       "      <th>INSULIN_NEW_CAT</th>\n",
       "      <th>GLUCOSE_INSULIN</th>\n",
       "      <th>INSULIN_BMI</th>\n",
       "      <th>GLUCOSE_BLOODPRESSURE</th>\n",
       "      <th>INSULIN_BLOODPRESSURE</th>\n",
       "      <th>NEW_AGE_CAT_middle</th>\n",
       "      <th>NEW_AGE_CAT_old</th>\n",
       "      <th>NEW_AGE_CAT_young</th>\n",
       "      <th>NEW_BMI_CAT_obese</th>\n",
       "      <th>NEW_BMI_CAT_overweight</th>\n",
       "      <th>NEW_AGE_GLUCOSE_CAT_low</th>\n",
       "      <th>NEW_AGE_GLUCOSE_CAT_normal</th>\n",
       "    </tr>\n",
       "  </thead>\n",
       "  <tbody>\n",
       "    <tr>\n",
       "      <th>0</th>\n",
       "      <td>6.000</td>\n",
       "      <td>148.000</td>\n",
       "      <td>72.000</td>\n",
       "      <td>35.000</td>\n",
       "      <td>206.846</td>\n",
       "      <td>33.600</td>\n",
       "      <td>0.627</td>\n",
       "      <td>50.000</td>\n",
       "      <td>1</td>\n",
       "      <td>0</td>\n",
       "      <td>30613.231</td>\n",
       "      <td>6950.031</td>\n",
       "      <td>10656.000</td>\n",
       "      <td>14892.923</td>\n",
       "      <td>True</td>\n",
       "      <td>False</td>\n",
       "      <td>False</td>\n",
       "      <td>True</td>\n",
       "      <td>False</td>\n",
       "      <td>False</td>\n",
       "      <td>False</td>\n",
       "    </tr>\n",
       "    <tr>\n",
       "      <th>1</th>\n",
       "      <td>1.000</td>\n",
       "      <td>85.000</td>\n",
       "      <td>66.000</td>\n",
       "      <td>29.000</td>\n",
       "      <td>130.288</td>\n",
       "      <td>26.600</td>\n",
       "      <td>0.351</td>\n",
       "      <td>31.000</td>\n",
       "      <td>0</td>\n",
       "      <td>0</td>\n",
       "      <td>11074.470</td>\n",
       "      <td>3465.658</td>\n",
       "      <td>5610.000</td>\n",
       "      <td>8599.000</td>\n",
       "      <td>False</td>\n",
       "      <td>False</td>\n",
       "      <td>False</td>\n",
       "      <td>False</td>\n",
       "      <td>True</td>\n",
       "      <td>False</td>\n",
       "      <td>True</td>\n",
       "    </tr>\n",
       "    <tr>\n",
       "      <th>2</th>\n",
       "      <td>8.000</td>\n",
       "      <td>183.000</td>\n",
       "      <td>64.000</td>\n",
       "      <td>33.000</td>\n",
       "      <td>206.846</td>\n",
       "      <td>23.300</td>\n",
       "      <td>0.672</td>\n",
       "      <td>32.000</td>\n",
       "      <td>1</td>\n",
       "      <td>0</td>\n",
       "      <td>37852.846</td>\n",
       "      <td>4819.515</td>\n",
       "      <td>11712.000</td>\n",
       "      <td>13238.154</td>\n",
       "      <td>False</td>\n",
       "      <td>False</td>\n",
       "      <td>False</td>\n",
       "      <td>False</td>\n",
       "      <td>False</td>\n",
       "      <td>False</td>\n",
       "      <td>False</td>\n",
       "    </tr>\n",
       "    <tr>\n",
       "      <th>3</th>\n",
       "      <td>1.000</td>\n",
       "      <td>89.000</td>\n",
       "      <td>66.000</td>\n",
       "      <td>23.000</td>\n",
       "      <td>94.000</td>\n",
       "      <td>28.100</td>\n",
       "      <td>0.167</td>\n",
       "      <td>21.000</td>\n",
       "      <td>0</td>\n",
       "      <td>1</td>\n",
       "      <td>8366.000</td>\n",
       "      <td>2641.400</td>\n",
       "      <td>5874.000</td>\n",
       "      <td>6204.000</td>\n",
       "      <td>False</td>\n",
       "      <td>False</td>\n",
       "      <td>True</td>\n",
       "      <td>False</td>\n",
       "      <td>True</td>\n",
       "      <td>False</td>\n",
       "      <td>True</td>\n",
       "    </tr>\n",
       "    <tr>\n",
       "      <th>4</th>\n",
       "      <td>0.000</td>\n",
       "      <td>137.000</td>\n",
       "      <td>40.000</td>\n",
       "      <td>35.000</td>\n",
       "      <td>168.000</td>\n",
       "      <td>43.100</td>\n",
       "      <td>1.200</td>\n",
       "      <td>33.000</td>\n",
       "      <td>1</td>\n",
       "      <td>0</td>\n",
       "      <td>23016.000</td>\n",
       "      <td>7240.800</td>\n",
       "      <td>5480.000</td>\n",
       "      <td>6720.000</td>\n",
       "      <td>False</td>\n",
       "      <td>False</td>\n",
       "      <td>False</td>\n",
       "      <td>True</td>\n",
       "      <td>False</td>\n",
       "      <td>False</td>\n",
       "      <td>False</td>\n",
       "    </tr>\n",
       "  </tbody>\n",
       "</table>\n",
       "</div>"
      ],
      "text/plain": [
       "   PREGNANCIES  GLUCOSE  BLOODPRESSURE  SKINTHICKNESS  INSULIN    BMI  DIABETESPEDIGREEFUNCTION    AGE  OUTCOME  INSULIN_NEW_CAT  GLUCOSE_INSULIN  INSULIN_BMI  GLUCOSE_BLOODPRESSURE  INSULIN_BLOODPRESSURE  NEW_AGE_CAT_middle  NEW_AGE_CAT_old  NEW_AGE_CAT_young  NEW_BMI_CAT_obese  NEW_BMI_CAT_overweight  NEW_AGE_GLUCOSE_CAT_low  NEW_AGE_GLUCOSE_CAT_normal\n",
       "0        6.000  148.000         72.000         35.000  206.846 33.600                     0.627 50.000        1                0        30613.231     6950.031              10656.000              14892.923                True            False              False               True                   False                    False                       False\n",
       "1        1.000   85.000         66.000         29.000  130.288 26.600                     0.351 31.000        0                0        11074.470     3465.658               5610.000               8599.000               False            False              False              False                    True                    False                        True\n",
       "2        8.000  183.000         64.000         33.000  206.846 23.300                     0.672 32.000        1                0        37852.846     4819.515              11712.000              13238.154               False            False              False              False                   False                    False                       False\n",
       "3        1.000   89.000         66.000         23.000   94.000 28.100                     0.167 21.000        0                1         8366.000     2641.400               5874.000               6204.000               False            False               True              False                    True                    False                        True\n",
       "4        0.000  137.000         40.000         35.000  168.000 43.100                     1.200 33.000        1                0        23016.000     7240.800               5480.000               6720.000               False            False              False               True                   False                    False                       False"
      ]
     },
     "execution_count": 34,
     "metadata": {},
     "output_type": "execute_result"
    }
   ],
   "source": [
    "df.head()"
   ]
  },
  {
   "cell_type": "code",
   "execution_count": 35,
   "id": "2143fb96",
   "metadata": {
    "execution": {
     "iopub.execute_input": "2024-06-26T11:43:44.783959Z",
     "iopub.status.busy": "2024-06-26T11:43:44.783529Z",
     "iopub.status.idle": "2024-06-26T11:43:44.811612Z",
     "shell.execute_reply": "2024-06-26T11:43:44.810415Z"
    },
    "papermill": {
     "duration": 0.051706,
     "end_time": "2024-06-26T11:43:44.814274",
     "exception": false,
     "start_time": "2024-06-26T11:43:44.762568",
     "status": "completed"
    },
    "tags": []
   },
   "outputs": [
    {
     "data": {
      "text/html": [
       "<div>\n",
       "<style scoped>\n",
       "    .dataframe tbody tr th:only-of-type {\n",
       "        vertical-align: middle;\n",
       "    }\n",
       "\n",
       "    .dataframe tbody tr th {\n",
       "        vertical-align: top;\n",
       "    }\n",
       "\n",
       "    .dataframe thead th {\n",
       "        text-align: right;\n",
       "    }\n",
       "</style>\n",
       "<table border=\"1\" class=\"dataframe\">\n",
       "  <thead>\n",
       "    <tr style=\"text-align: right;\">\n",
       "      <th></th>\n",
       "      <th>PREGNANCIES</th>\n",
       "      <th>GLUCOSE</th>\n",
       "      <th>BLOODPRESSURE</th>\n",
       "      <th>SKINTHICKNESS</th>\n",
       "      <th>INSULIN</th>\n",
       "      <th>BMI</th>\n",
       "      <th>DIABETESPEDIGREEFUNCTION</th>\n",
       "      <th>AGE</th>\n",
       "      <th>GLUCOSE_INSULIN</th>\n",
       "      <th>INSULIN_BMI</th>\n",
       "      <th>GLUCOSE_BLOODPRESSURE</th>\n",
       "      <th>INSULIN_BLOODPRESSURE</th>\n",
       "    </tr>\n",
       "  </thead>\n",
       "  <tbody>\n",
       "    <tr>\n",
       "      <th>0</th>\n",
       "      <td>0.600</td>\n",
       "      <td>0.752</td>\n",
       "      <td>0.000</td>\n",
       "      <td>0.875</td>\n",
       "      <td>0.897</td>\n",
       "      <td>0.170</td>\n",
       "      <td>0.665</td>\n",
       "      <td>1.235</td>\n",
       "      <td>1.026</td>\n",
       "      <td>0.780</td>\n",
       "      <td>0.532</td>\n",
       "      <td>0.742</td>\n",
       "    </tr>\n",
       "    <tr>\n",
       "      <th>1</th>\n",
       "      <td>-0.400</td>\n",
       "      <td>-0.776</td>\n",
       "      <td>-0.375</td>\n",
       "      <td>0.125</td>\n",
       "      <td>0.000</td>\n",
       "      <td>-0.599</td>\n",
       "      <td>-0.056</td>\n",
       "      <td>0.118</td>\n",
       "      <td>-0.361</td>\n",
       "      <td>-0.275</td>\n",
       "      <td>-0.657</td>\n",
       "      <td>-0.194</td>\n",
       "    </tr>\n",
       "    <tr>\n",
       "      <th>2</th>\n",
       "      <td>1.000</td>\n",
       "      <td>1.600</td>\n",
       "      <td>-0.500</td>\n",
       "      <td>0.625</td>\n",
       "      <td>0.897</td>\n",
       "      <td>-0.962</td>\n",
       "      <td>0.783</td>\n",
       "      <td>0.176</td>\n",
       "      <td>1.540</td>\n",
       "      <td>0.135</td>\n",
       "      <td>0.780</td>\n",
       "      <td>0.496</td>\n",
       "    </tr>\n",
       "    <tr>\n",
       "      <th>3</th>\n",
       "      <td>-0.400</td>\n",
       "      <td>-0.679</td>\n",
       "      <td>-0.375</td>\n",
       "      <td>-0.625</td>\n",
       "      <td>-0.425</td>\n",
       "      <td>-0.434</td>\n",
       "      <td>-0.537</td>\n",
       "      <td>-0.471</td>\n",
       "      <td>-0.553</td>\n",
       "      <td>-0.525</td>\n",
       "      <td>-0.595</td>\n",
       "      <td>-0.550</td>\n",
       "    </tr>\n",
       "    <tr>\n",
       "      <th>4</th>\n",
       "      <td>-0.600</td>\n",
       "      <td>0.485</td>\n",
       "      <td>-2.000</td>\n",
       "      <td>0.875</td>\n",
       "      <td>0.442</td>\n",
       "      <td>1.214</td>\n",
       "      <td>2.163</td>\n",
       "      <td>0.235</td>\n",
       "      <td>0.487</td>\n",
       "      <td>0.869</td>\n",
       "      <td>-0.688</td>\n",
       "      <td>-0.473</td>\n",
       "    </tr>\n",
       "  </tbody>\n",
       "</table>\n",
       "</div>"
      ],
      "text/plain": [
       "   PREGNANCIES  GLUCOSE  BLOODPRESSURE  SKINTHICKNESS  INSULIN    BMI  DIABETESPEDIGREEFUNCTION    AGE  GLUCOSE_INSULIN  INSULIN_BMI  GLUCOSE_BLOODPRESSURE  INSULIN_BLOODPRESSURE\n",
       "0        0.600    0.752          0.000          0.875    0.897  0.170                     0.665  1.235            1.026        0.780                  0.532                  0.742\n",
       "1       -0.400   -0.776         -0.375          0.125    0.000 -0.599                    -0.056  0.118           -0.361       -0.275                 -0.657                 -0.194\n",
       "2        1.000    1.600         -0.500          0.625    0.897 -0.962                     0.783  0.176            1.540        0.135                  0.780                  0.496\n",
       "3       -0.400   -0.679         -0.375         -0.625   -0.425 -0.434                    -0.537 -0.471           -0.553       -0.525                 -0.595                 -0.550\n",
       "4       -0.600    0.485         -2.000          0.875    0.442  1.214                     2.163  0.235            0.487        0.869                 -0.688                 -0.473"
      ]
     },
     "execution_count": 35,
     "metadata": {},
     "output_type": "execute_result"
    }
   ],
   "source": [
    "# standardization\n",
    "\n",
    "rs = RobustScaler()\n",
    "df[num_cols] = rs.fit_transform(df[num_cols])\n",
    "df[num_cols].head()"
   ]
  },
  {
   "cell_type": "code",
   "execution_count": 36,
   "id": "d4757677",
   "metadata": {
    "execution": {
     "iopub.execute_input": "2024-06-26T11:43:44.858880Z",
     "iopub.status.busy": "2024-06-26T11:43:44.857877Z",
     "iopub.status.idle": "2024-06-26T11:43:45.192762Z",
     "shell.execute_reply": "2024-06-26T11:43:45.191428Z"
    },
    "papermill": {
     "duration": 0.361242,
     "end_time": "2024-06-26T11:43:45.195812",
     "exception": false,
     "start_time": "2024-06-26T11:43:44.834570",
     "status": "completed"
    },
    "tags": []
   },
   "outputs": [
    {
     "data": {
      "text/plain": [
       "0.8744588744588745"
      ]
     },
     "execution_count": 36,
     "metadata": {},
     "output_type": "execute_result"
    }
   ],
   "source": [
    "# modelling - RandomForestClassifier\n",
    "y = df[\"OUTCOME\"]\n",
    "X = df.drop(\"OUTCOME\", axis=1)\n",
    "X_train, X_test, y_train, y_test = train_test_split(X, y, test_size=0.30, random_state=17)\n",
    "\n",
    "rf_model = RandomForestClassifier(random_state=46).fit(X_train, y_train)\n",
    "y_pred = rf_model.predict(X_test)\n",
    "accuracy_score(y_pred, y_test)"
   ]
  }
 ],
 "metadata": {
  "kaggle": {
   "accelerator": "none",
   "dataSources": [
    {
     "datasetId": 5278606,
     "sourceId": 8781524,
     "sourceType": "datasetVersion"
    }
   ],
   "dockerImageVersionId": 30732,
   "isGpuEnabled": false,
   "isInternetEnabled": true,
   "language": "python",
   "sourceType": "notebook"
  },
  "kernelspec": {
   "display_name": "Python 3",
   "language": "python",
   "name": "python3"
  },
  "language_info": {
   "codemirror_mode": {
    "name": "ipython",
    "version": 3
   },
   "file_extension": ".py",
   "mimetype": "text/x-python",
   "name": "python",
   "nbconvert_exporter": "python",
   "pygments_lexer": "ipython3",
   "version": "3.10.13"
  },
  "papermill": {
   "default_parameters": {},
   "duration": 11.238689,
   "end_time": "2024-06-26T11:43:45.938551",
   "environment_variables": {},
   "exception": null,
   "input_path": "__notebook__.ipynb",
   "output_path": "__notebook__.ipynb",
   "parameters": {},
   "start_time": "2024-06-26T11:43:34.699862",
   "version": "2.5.0"
  }
 },
 "nbformat": 4,
 "nbformat_minor": 5
}
